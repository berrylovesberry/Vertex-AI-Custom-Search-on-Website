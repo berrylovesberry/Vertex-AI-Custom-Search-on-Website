{
 "cells": [
  {
   "cell_type": "code",
   "execution_count": null,
   "id": "d6f01ff5",
   "metadata": {},
   "outputs": [],
   "source": [
    "from google.cloud import discoveryengine_v1beta\n",
    "from google.cloud.discoveryengine_v1beta.types import SearchRequest\n",
    "\n",
    "PROJECT_ID = \"your project ID\"  # Replace with your actual project ID\n",
    "LOCATION = \"\"  # Typically \"global\" for Discovery Engine\n",
    "DATA_STORE_ID = \"\" # Replace with your actual data store ID \n",
    "SEARCH_APP_ID = \"\"  # Replace with your actual search app ID\n",
    "\n",
    "# Construct the full search placement string\n",
    "search_placement = f\"projects/{PROJECT_ID}/locations/{LOCATION}/collections/default_collection/dataStores/{DATA_STORE_ID}/servingConfigs/default_search\"\n",
    "\n",
    "client = discoveryengine_v1beta.SearchServiceClient()\n",
    "def vertex_ai_search(query: str, top_k=10):\n",
    "    request = SearchRequest(\n",
    "        serving_config=search_placement,\n",
    "        query=query,\n",
    "        page_size=top_k,\n",
    "    )\n",
    "\n",
    "    results = client.search(request)\n",
    "    top_results = []\n",
    "\n",
    "    for result in results:\n",
    "        doc = result.document\n",
    "        derived = doc.derived_struct_data  # ✅ MapComposite (dict-like)\n",
    "\n",
    "        url = derived.get(\"formattedUrl\", \"No URL\")\n",
    "        title = derived.get(\"htmlTitle\", \"No title\")\n",
    "        snippet = derived[\"snippets\"][0]['snippet'] \n",
    "        \n",
    "        top_results.append({\n",
    "            \"title\": title,\n",
    "            \"url\": url,\n",
    "            \"snippet\": snippet,\n",
    "        })\n",
    "\n",
    "    return top_results\n",
    "# Example usage\n",
    "query = \"what is the tax rate  for long term investment\"  # other query \"child tax credit 2024\"\n",
    "top_1 = vertex_ai_search(query)\n",
    "\n",
    "# Print the top 10 results \n",
    "for i, item in enumerate(top_1[:10], 1):\n",
    "    print(f\"{i}. {item['title']}\")\n",
    "    print(f\"   URL: {item['url']}\")\n",
    "    print(f\"   Snippet: {item['snippet']}\\n\")"
   ]
  }
 ],
 "metadata": {
  "language_info": {
   "name": "python"
  }
 },
 "nbformat": 4,
 "nbformat_minor": 5
}
